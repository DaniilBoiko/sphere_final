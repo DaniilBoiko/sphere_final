{
 "cells": [
  {
   "cell_type": "code",
   "execution_count": 1,
   "metadata": {},
   "outputs": [],
   "source": [
    "import gzip\n",
    "from tqdm.notebook import tqdm\n",
    "\n",
    "import tensorflow as tf\n",
    "import tensorflow_hub as hub\n",
    "import numpy as np\n",
    "import tensorflow_text"
   ]
  },
  {
   "cell_type": "code",
   "execution_count": 2,
   "metadata": {},
   "outputs": [],
   "source": [
    "module = hub.load('https://tfhub.dev/google/universal-sentence-encoder-multilingual-qa/3')"
   ]
  },
  {
   "cell_type": "code",
   "execution_count": 3,
   "metadata": {},
   "outputs": [],
   "source": [
    "title_embeds = []\n",
    "body_embeds = []"
   ]
  },
  {
   "cell_type": "code",
   "execution_count": null,
   "metadata": {},
   "outputs": [
    {
     "data": {
      "application/vnd.jupyter.widget-view+json": {
       "model_id": "acc6f5111a054460b65a00123d0794c3",
       "version_major": 2,
       "version_minor": 0
      },
      "text/plain": [
       "HBox(children=(HTML(value=''), FloatProgress(value=1.0, bar_style='info', layout=Layout(width='20px'), max=1.0…"
      ]
     },
     "metadata": {},
     "output_type": "display_data"
    },
    {
     "name": "stderr",
     "output_type": "stream",
     "text": [
      "IOPub message rate exceeded.\n",
      "The notebook server will temporarily stop sending output\n",
      "to the client in order to avoid crashing it.\n",
      "To change this limit, set the config variable\n",
      "`--NotebookApp.iopub_msg_rate_limit`.\n",
      "\n",
      "Current values:\n",
      "NotebookApp.iopub_msg_rate_limit=1000.0 (msgs/sec)\n",
      "NotebookApp.rate_limit_window=3.0 (secs)\n",
      "\n",
      "IOPub message rate exceeded.\n",
      "The notebook server will temporarily stop sending output\n",
      "to the client in order to avoid crashing it.\n",
      "To change this limit, set the config variable\n",
      "`--NotebookApp.iopub_msg_rate_limit`.\n",
      "\n",
      "Current values:\n",
      "NotebookApp.iopub_msg_rate_limit=1000.0 (msgs/sec)\n",
      "NotebookApp.rate_limit_window=3.0 (secs)\n",
      "\n",
      "IOPub message rate exceeded.\n",
      "The notebook server will temporarily stop sending output\n",
      "to the client in order to avoid crashing it.\n",
      "To change this limit, set the config variable\n",
      "`--NotebookApp.iopub_msg_rate_limit`.\n",
      "\n",
      "Current values:\n",
      "NotebookApp.iopub_msg_rate_limit=1000.0 (msgs/sec)\n",
      "NotebookApp.rate_limit_window=3.0 (secs)\n",
      "\n",
      "IOPub message rate exceeded.\n",
      "The notebook server will temporarily stop sending output\n",
      "to the client in order to avoid crashing it.\n",
      "To change this limit, set the config variable\n",
      "`--NotebookApp.iopub_msg_rate_limit`.\n",
      "\n",
      "Current values:\n",
      "NotebookApp.iopub_msg_rate_limit=1000.0 (msgs/sec)\n",
      "NotebookApp.rate_limit_window=3.0 (secs)\n",
      "\n",
      "IOPub message rate exceeded.\n",
      "The notebook server will temporarily stop sending output\n",
      "to the client in order to avoid crashing it.\n",
      "To change this limit, set the config variable\n",
      "`--NotebookApp.iopub_msg_rate_limit`.\n",
      "\n",
      "Current values:\n",
      "NotebookApp.iopub_msg_rate_limit=1000.0 (msgs/sec)\n",
      "NotebookApp.rate_limit_window=3.0 (secs)\n",
      "\n",
      "IOPub message rate exceeded.\n",
      "The notebook server will temporarily stop sending output\n",
      "to the client in order to avoid crashing it.\n",
      "To change this limit, set the config variable\n",
      "`--NotebookApp.iopub_msg_rate_limit`.\n",
      "\n",
      "Current values:\n",
      "NotebookApp.iopub_msg_rate_limit=1000.0 (msgs/sec)\n",
      "NotebookApp.rate_limit_window=3.0 (secs)\n",
      "\n",
      "IOPub message rate exceeded.\n",
      "The notebook server will temporarily stop sending output\n",
      "to the client in order to avoid crashing it.\n",
      "To change this limit, set the config variable\n",
      "`--NotebookApp.iopub_msg_rate_limit`.\n",
      "\n",
      "Current values:\n",
      "NotebookApp.iopub_msg_rate_limit=1000.0 (msgs/sec)\n",
      "NotebookApp.rate_limit_window=3.0 (secs)\n",
      "\n",
      "IOPub message rate exceeded.\n",
      "The notebook server will temporarily stop sending output\n",
      "to the client in order to avoid crashing it.\n",
      "To change this limit, set the config variable\n",
      "`--NotebookApp.iopub_msg_rate_limit`.\n",
      "\n",
      "Current values:\n",
      "NotebookApp.iopub_msg_rate_limit=1000.0 (msgs/sec)\n",
      "NotebookApp.rate_limit_window=3.0 (secs)\n",
      "\n",
      "IOPub message rate exceeded.\n",
      "The notebook server will temporarily stop sending output\n",
      "to the client in order to avoid crashing it.\n",
      "To change this limit, set the config variable\n",
      "`--NotebookApp.iopub_msg_rate_limit`.\n",
      "\n",
      "Current values:\n",
      "NotebookApp.iopub_msg_rate_limit=1000.0 (msgs/sec)\n",
      "NotebookApp.rate_limit_window=3.0 (secs)\n",
      "\n",
      "IOPub message rate exceeded.\n",
      "The notebook server will temporarily stop sending output\n",
      "to the client in order to avoid crashing it.\n",
      "To change this limit, set the config variable\n",
      "`--NotebookApp.iopub_msg_rate_limit`.\n",
      "\n",
      "Current values:\n",
      "NotebookApp.iopub_msg_rate_limit=1000.0 (msgs/sec)\n",
      "NotebookApp.rate_limit_window=3.0 (secs)\n",
      "\n",
      "IOPub message rate exceeded.\n",
      "The notebook server will temporarily stop sending output\n",
      "to the client in order to avoid crashing it.\n",
      "To change this limit, set the config variable\n",
      "`--NotebookApp.iopub_msg_rate_limit`.\n",
      "\n",
      "Current values:\n",
      "NotebookApp.iopub_msg_rate_limit=1000.0 (msgs/sec)\n",
      "NotebookApp.rate_limit_window=3.0 (secs)\n",
      "\n",
      "IOPub message rate exceeded.\n",
      "The notebook server will temporarily stop sending output\n",
      "to the client in order to avoid crashing it.\n",
      "To change this limit, set the config variable\n",
      "`--NotebookApp.iopub_msg_rate_limit`.\n",
      "\n",
      "Current values:\n",
      "NotebookApp.iopub_msg_rate_limit=1000.0 (msgs/sec)\n",
      "NotebookApp.rate_limit_window=3.0 (secs)\n",
      "\n",
      "IOPub message rate exceeded.\n",
      "The notebook server will temporarily stop sending output\n",
      "to the client in order to avoid crashing it.\n",
      "To change this limit, set the config variable\n",
      "`--NotebookApp.iopub_msg_rate_limit`.\n",
      "\n",
      "Current values:\n",
      "NotebookApp.iopub_msg_rate_limit=1000.0 (msgs/sec)\n",
      "NotebookApp.rate_limit_window=3.0 (secs)\n",
      "\n",
      "IOPub message rate exceeded.\n",
      "The notebook server will temporarily stop sending output\n",
      "to the client in order to avoid crashing it.\n",
      "To change this limit, set the config variable\n",
      "`--NotebookApp.iopub_msg_rate_limit`.\n",
      "\n",
      "Current values:\n",
      "NotebookApp.iopub_msg_rate_limit=1000.0 (msgs/sec)\n",
      "NotebookApp.rate_limit_window=3.0 (secs)\n",
      "\n",
      "IOPub message rate exceeded.\n",
      "The notebook server will temporarily stop sending output\n",
      "to the client in order to avoid crashing it.\n",
      "To change this limit, set the config variable\n",
      "`--NotebookApp.iopub_msg_rate_limit`.\n",
      "\n",
      "Current values:\n",
      "NotebookApp.iopub_msg_rate_limit=1000.0 (msgs/sec)\n",
      "NotebookApp.rate_limit_window=3.0 (secs)\n",
      "\n",
      "IOPub message rate exceeded.\n",
      "The notebook server will temporarily stop sending output\n",
      "to the client in order to avoid crashing it.\n",
      "To change this limit, set the config variable\n",
      "`--NotebookApp.iopub_msg_rate_limit`.\n",
      "\n",
      "Current values:\n",
      "NotebookApp.iopub_msg_rate_limit=1000.0 (msgs/sec)\n",
      "NotebookApp.rate_limit_window=3.0 (secs)\n",
      "\n",
      "IOPub message rate exceeded.\n",
      "The notebook server will temporarily stop sending output\n",
      "to the client in order to avoid crashing it.\n",
      "To change this limit, set the config variable\n",
      "`--NotebookApp.iopub_msg_rate_limit`.\n",
      "\n",
      "Current values:\n",
      "NotebookApp.iopub_msg_rate_limit=1000.0 (msgs/sec)\n",
      "NotebookApp.rate_limit_window=3.0 (secs)\n",
      "\n",
      "IOPub message rate exceeded.\n",
      "The notebook server will temporarily stop sending output\n",
      "to the client in order to avoid crashing it.\n",
      "To change this limit, set the config variable\n",
      "`--NotebookApp.iopub_msg_rate_limit`.\n",
      "\n",
      "Current values:\n",
      "NotebookApp.iopub_msg_rate_limit=1000.0 (msgs/sec)\n",
      "NotebookApp.rate_limit_window=3.0 (secs)\n",
      "\n",
      "IOPub message rate exceeded.\n",
      "The notebook server will temporarily stop sending output\n",
      "to the client in order to avoid crashing it.\n",
      "To change this limit, set the config variable\n",
      "`--NotebookApp.iopub_msg_rate_limit`.\n",
      "\n",
      "Current values:\n",
      "NotebookApp.iopub_msg_rate_limit=1000.0 (msgs/sec)\n",
      "NotebookApp.rate_limit_window=3.0 (secs)\n",
      "\n",
      "IOPub message rate exceeded.\n",
      "The notebook server will temporarily stop sending output\n",
      "to the client in order to avoid crashing it.\n",
      "To change this limit, set the config variable\n",
      "`--NotebookApp.iopub_msg_rate_limit`.\n",
      "\n",
      "Current values:\n",
      "NotebookApp.iopub_msg_rate_limit=1000.0 (msgs/sec)\n",
      "NotebookApp.rate_limit_window=3.0 (secs)\n",
      "\n",
      "IOPub message rate exceeded.\n",
      "The notebook server will temporarily stop sending output\n",
      "to the client in order to avoid crashing it.\n",
      "To change this limit, set the config variable\n",
      "`--NotebookApp.iopub_msg_rate_limit`.\n",
      "\n",
      "Current values:\n",
      "NotebookApp.iopub_msg_rate_limit=1000.0 (msgs/sec)\n",
      "NotebookApp.rate_limit_window=3.0 (secs)\n",
      "\n"
     ]
    }
   ],
   "source": [
    "with gzip.open('data/docs.lemm.tsv.gz', 'rt') as fin:\n",
    "    for line in tqdm(fin):\n",
    "        idx, title, body, title_lemm, title_no_stop_words = line.split('\\t')\n",
    "        \n",
    "        title_response = [title.lower()]\n",
    "        body_response = [' '.join(body.lower().split(' ')[:30])]\n",
    "        \n",
    "        title_embeds.append(module.signatures['response_encoder'](input=tf.constant(title_response),\n",
    "                                                              context=tf.constant(title_response))['outputs'][0])\n",
    "        body_embeds.append(module.signatures['response_encoder'](input=tf.constant(body_response),\n",
    "                                                              context=tf.constant(body_response))['outputs'][0])"
   ]
  },
  {
   "cell_type": "code",
   "execution_count": null,
   "metadata": {},
   "outputs": [],
   "source": [
    "'a'"
   ]
  },
  {
   "cell_type": "code",
   "execution_count": null,
   "metadata": {},
   "outputs": [],
   "source": [
    "'a'"
   ]
  },
  {
   "cell_type": "code",
   "execution_count": 12,
   "metadata": {},
   "outputs": [],
   "source": [
    "title_embeds_npy = np.vstack([embed.numpy() for embed in title_embeds])"
   ]
  },
  {
   "cell_type": "code",
   "execution_count": 14,
   "metadata": {},
   "outputs": [],
   "source": [
    "body_embeds_npy = np.vstack([embed.numpy() for embed in body_embeds])"
   ]
  },
  {
   "cell_type": "code",
   "execution_count": 15,
   "metadata": {},
   "outputs": [],
   "source": [
    "np.save('data/title_embeds.npy', title_embeds_npy)\n",
    "np.save('data/body_embeds.npy', body_embeds_npy)"
   ]
  },
  {
   "cell_type": "code",
   "execution_count": 3,
   "metadata": {},
   "outputs": [],
   "source": [
    "import pickle as pkl\n",
    "with open('data/queries.corrected.pkl', 'rb') as f:\n",
    "    query_data = pkl.load(f)"
   ]
  },
  {
   "cell_type": "code",
   "execution_count": 4,
   "metadata": {},
   "outputs": [],
   "source": [
    "from tqdm.notebook import tqdm"
   ]
  },
  {
   "cell_type": "code",
   "execution_count": 13,
   "metadata": {},
   "outputs": [
    {
     "data": {
      "application/vnd.jupyter.widget-view+json": {
       "model_id": "1dccc3684485434795198511af1410e8",
       "version_major": 2,
       "version_minor": 0
      },
      "text/plain": [
       "HBox(children=(HTML(value=''), FloatProgress(value=0.0, max=6311.0), HTML(value='')))"
      ]
     },
     "metadata": {},
     "output_type": "display_data"
    },
    {
     "name": "stdout",
     "output_type": "stream",
     "text": [
      "\n"
     ]
    }
   ],
   "source": [
    "query_embeds = []\n",
    "\n",
    "for query in tqdm(query_data['corrected']):\n",
    "    query_embeds.append(\n",
    "        module.signatures['question_encoder'](input=tf.constant([query]))['outputs'][0]\n",
    "    )"
   ]
  },
  {
   "cell_type": "code",
   "execution_count": 14,
   "metadata": {},
   "outputs": [],
   "source": [
    "query_embeds_npy = np.vstack([embed.numpy() for embed in query_embeds])"
   ]
  },
  {
   "cell_type": "code",
   "execution_count": 15,
   "metadata": {},
   "outputs": [],
   "source": [
    "np.save('data/query_embeds.npy', query_embeds_npy)"
   ]
  },
  {
   "cell_type": "code",
   "execution_count": 5,
   "metadata": {},
   "outputs": [
    {
     "data": {
      "text/html": [
       "<div>\n",
       "<style scoped>\n",
       "    .dataframe tbody tr th:only-of-type {\n",
       "        vertical-align: middle;\n",
       "    }\n",
       "\n",
       "    .dataframe tbody tr th {\n",
       "        vertical-align: top;\n",
       "    }\n",
       "\n",
       "    .dataframe thead th {\n",
       "        text-align: right;\n",
       "    }\n",
       "</style>\n",
       "<table border=\"1\" class=\"dataframe\">\n",
       "  <thead>\n",
       "    <tr style=\"text-align: right;\">\n",
       "      <th></th>\n",
       "      <th>id</th>\n",
       "      <th>query</th>\n",
       "      <th>corrected</th>\n",
       "      <th>lemmatized</th>\n",
       "      <th>synonyms</th>\n",
       "      <th>lemmatized_wo_stop_words</th>\n",
       "    </tr>\n",
       "  </thead>\n",
       "  <tbody>\n",
       "    <tr>\n",
       "      <th>0</th>\n",
       "      <td>0</td>\n",
       "      <td>13 причин почему</td>\n",
       "      <td>13 причин почему</td>\n",
       "      <td>13 причина почему</td>\n",
       "      <td>{'13': {}, 'причина': {'причина': 1}, 'почему'...</td>\n",
       "      <td>13 причина почему</td>\n",
       "    </tr>\n",
       "    <tr>\n",
       "      <th>1</th>\n",
       "      <td>1</td>\n",
       "      <td>1 положительный и 1 отрицательный могут ли</td>\n",
       "      <td>1 положительный и 1 отрицательный могут ли</td>\n",
       "      <td>1 положительный и 1 отрицательный мочь ли</td>\n",
       "      <td>{'мочь': {'быть в состоянии': 1, 'мочь': 3, 'у...</td>\n",
       "      <td>1 положительный 1 отрицательный мочь</td>\n",
       "    </tr>\n",
       "    <tr>\n",
       "      <th>2</th>\n",
       "      <td>2</td>\n",
       "      <td>2016 действует ли зао рождественская мануфактура</td>\n",
       "      <td>2016 действует ли зао рождественская мануфактура</td>\n",
       "      <td>2016 действовать ли зао рождественский мануфак...</td>\n",
       "      <td>{'зао': {}, 'мануфактура': {'мануфактура': 3},...</td>\n",
       "      <td>2016 действовать зао рождественский мануфактура</td>\n",
       "    </tr>\n",
       "    <tr>\n",
       "      <th>3</th>\n",
       "      <td>3</td>\n",
       "      <td>1 месяц после операции на кишечнику диета что ...</td>\n",
       "      <td>1 месяц после операции на кишечнике диета что ...</td>\n",
       "      <td>1 месяц после операция на кишечник диета что м...</td>\n",
       "      <td>{'после': {'за': 1, 'после': 2, 'в дальнейшем'...</td>\n",
       "      <td>1 месяц операция кишечник диета добавлять</td>\n",
       "    </tr>\n",
       "    <tr>\n",
       "      <th>4</th>\n",
       "      <td>4</td>\n",
       "      <td>2 правды 1 ложь что можно придумать</td>\n",
       "      <td>2 правды 1 ложь что можно придумать</td>\n",
       "      <td>2 правда 1 ложь что можно придумывать</td>\n",
       "      <td>{'придумывать': {'придумывать': 1}, 'что': {'ч...</td>\n",
       "      <td>2 правда 1 ложь придумывать</td>\n",
       "    </tr>\n",
       "    <tr>\n",
       "      <th>...</th>\n",
       "      <td>...</td>\n",
       "      <td>...</td>\n",
       "      <td>...</td>\n",
       "      <td>...</td>\n",
       "      <td>...</td>\n",
       "      <td>...</td>\n",
       "    </tr>\n",
       "    <tr>\n",
       "      <th>6306</th>\n",
       "      <td>6306</td>\n",
       "      <td>является ли тойота хариер внедорожником</td>\n",
       "      <td>является ли тойота харриер внедорожником</td>\n",
       "      <td>являться ли тойота харриер внедорожник</td>\n",
       "      <td>{'тойота': {'тойота': 1}, 'ли': {'ли': 4}, 'ха...</td>\n",
       "      <td>являться тойота харриер внедорожник</td>\n",
       "    </tr>\n",
       "    <tr>\n",
       "      <th>6307</th>\n",
       "      <td>6307</td>\n",
       "      <td>як можно очистити крейду</td>\n",
       "      <td>як можно очистить крейду</td>\n",
       "      <td>як можно очищать креходить</td>\n",
       "      <td>{'як': {'як': 1}, 'очищать': {'очищать': 2}, '...</td>\n",
       "      <td>як очищать креходить</td>\n",
       "    </tr>\n",
       "    <tr>\n",
       "      <th>6308</th>\n",
       "      <td>6308</td>\n",
       "      <td>являются ли реактивы медицинскими изделиями</td>\n",
       "      <td>являются ли реактивы медицинскими изделиями</td>\n",
       "      <td>являться ли реактив медицинский изделие</td>\n",
       "      <td>{'медицинский': {'медицинский': 1}, 'изделие':...</td>\n",
       "      <td>являться реактив медицинский изделие</td>\n",
       "    </tr>\n",
       "    <tr>\n",
       "      <th>6309</th>\n",
       "      <td>6309</td>\n",
       "      <td>являются ли словообразовательными парами слова...</td>\n",
       "      <td>являются ли словообразовательными парами слова...</td>\n",
       "      <td>являться ли словообразовательный пары слово го...</td>\n",
       "      <td>{'голос': {'голос': 6, 'глас': 1}, 'пары': {},...</td>\n",
       "      <td>являться словообразовательный пары слово голос...</td>\n",
       "    </tr>\n",
       "    <tr>\n",
       "      <th>6310</th>\n",
       "      <td>6310</td>\n",
       "      <td>является ли ооо субъектом малого предпринимате...</td>\n",
       "      <td>является ли ооо субъектом малого предпринимате...</td>\n",
       "      <td>являться ли ооо субъект малый предпринимательство</td>\n",
       "      <td>{'предпринимательство': {}, 'ооо': {}, 'ли': {...</td>\n",
       "      <td>являться ооо субъект малый предпринимательство</td>\n",
       "    </tr>\n",
       "  </tbody>\n",
       "</table>\n",
       "<p>6311 rows × 6 columns</p>\n",
       "</div>"
      ],
      "text/plain": [
       "        id                                              query  \\\n",
       "0        0                                   13 причин почему   \n",
       "1        1         1 положительный и 1 отрицательный могут ли   \n",
       "2        2   2016 действует ли зао рождественская мануфактура   \n",
       "3        3  1 месяц после операции на кишечнику диета что ...   \n",
       "4        4                2 правды 1 ложь что можно придумать   \n",
       "...    ...                                                ...   \n",
       "6306  6306            является ли тойота хариер внедорожником   \n",
       "6307  6307                           як можно очистити крейду   \n",
       "6308  6308        являются ли реактивы медицинскими изделиями   \n",
       "6309  6309  являются ли словообразовательными парами слова...   \n",
       "6310  6310  является ли ооо субъектом малого предпринимате...   \n",
       "\n",
       "                                              corrected  \\\n",
       "0                                      13 причин почему   \n",
       "1            1 положительный и 1 отрицательный могут ли   \n",
       "2      2016 действует ли зао рождественская мануфактура   \n",
       "3     1 месяц после операции на кишечнике диета что ...   \n",
       "4                   2 правды 1 ложь что можно придумать   \n",
       "...                                                 ...   \n",
       "6306           является ли тойота харриер внедорожником   \n",
       "6307                           як можно очистить крейду   \n",
       "6308        являются ли реактивы медицинскими изделиями   \n",
       "6309  являются ли словообразовательными парами слова...   \n",
       "6310  является ли ооо субъектом малого предпринимате...   \n",
       "\n",
       "                                             lemmatized  \\\n",
       "0                                     13 причина почему   \n",
       "1             1 положительный и 1 отрицательный мочь ли   \n",
       "2     2016 действовать ли зао рождественский мануфак...   \n",
       "3     1 месяц после операция на кишечник диета что м...   \n",
       "4                 2 правда 1 ложь что можно придумывать   \n",
       "...                                                 ...   \n",
       "6306             являться ли тойота харриер внедорожник   \n",
       "6307                         як можно очищать креходить   \n",
       "6308            являться ли реактив медицинский изделие   \n",
       "6309  являться ли словообразовательный пары слово го...   \n",
       "6310  являться ли ооо субъект малый предпринимательство   \n",
       "\n",
       "                                               synonyms  \\\n",
       "0     {'13': {}, 'причина': {'причина': 1}, 'почему'...   \n",
       "1     {'мочь': {'быть в состоянии': 1, 'мочь': 3, 'у...   \n",
       "2     {'зао': {}, 'мануфактура': {'мануфактура': 3},...   \n",
       "3     {'после': {'за': 1, 'после': 2, 'в дальнейшем'...   \n",
       "4     {'придумывать': {'придумывать': 1}, 'что': {'ч...   \n",
       "...                                                 ...   \n",
       "6306  {'тойота': {'тойота': 1}, 'ли': {'ли': 4}, 'ха...   \n",
       "6307  {'як': {'як': 1}, 'очищать': {'очищать': 2}, '...   \n",
       "6308  {'медицинский': {'медицинский': 1}, 'изделие':...   \n",
       "6309  {'голос': {'голос': 6, 'глас': 1}, 'пары': {},...   \n",
       "6310  {'предпринимательство': {}, 'ооо': {}, 'ли': {...   \n",
       "\n",
       "                               lemmatized_wo_stop_words  \n",
       "0                                     13 причина почему  \n",
       "1                  1 положительный 1 отрицательный мочь  \n",
       "2       2016 действовать зао рождественский мануфактура  \n",
       "3             1 месяц операция кишечник диета добавлять  \n",
       "4                           2 правда 1 ложь придумывать  \n",
       "...                                                 ...  \n",
       "6306                являться тойота харриер внедорожник  \n",
       "6307                               як очищать креходить  \n",
       "6308               являться реактив медицинский изделие  \n",
       "6309  являться словообразовательный пары слово голос...  \n",
       "6310     являться ооо субъект малый предпринимательство  \n",
       "\n",
       "[6311 rows x 6 columns]"
      ]
     },
     "execution_count": 5,
     "metadata": {},
     "output_type": "execute_result"
    }
   ],
   "source": [
    "query_data"
   ]
  },
  {
   "cell_type": "code",
   "execution_count": 6,
   "metadata": {},
   "outputs": [
    {
     "data": {
      "application/vnd.jupyter.widget-view+json": {
       "model_id": "b11e8249a271498ebf3ff02eeb98c3a8",
       "version_major": 2,
       "version_minor": 0
      },
      "text/plain": [
       "HBox(children=(HTML(value=''), FloatProgress(value=0.0, max=6311.0), HTML(value='')))"
      ]
     },
     "metadata": {},
     "output_type": "display_data"
    },
    {
     "name": "stdout",
     "output_type": "stream",
     "text": [
      "\n"
     ]
    }
   ],
   "source": [
    "query_embeds = []\n",
    "\n",
    "for query in tqdm(query_data['lemmatized']):\n",
    "    query_embeds.append(\n",
    "        module.signatures['question_encoder'](input=tf.constant([query]))['outputs'][0]\n",
    "    )\n",
    "query_embeds_npy = np.vstack([embed.numpy() for embed in query_embeds])\n",
    "np.save('data/query_embeds_lemmatized.npy', query_embeds_npy)"
   ]
  },
  {
   "cell_type": "code",
   "execution_count": null,
   "metadata": {},
   "outputs": [
    {
     "data": {
      "application/vnd.jupyter.widget-view+json": {
       "model_id": "447e83f43b8c4e8c8e795c61f7b4cd7a",
       "version_major": 2,
       "version_minor": 0
      },
      "text/plain": [
       "HBox(children=(HTML(value=''), FloatProgress(value=0.0, max=6311.0), HTML(value='')))"
      ]
     },
     "metadata": {},
     "output_type": "display_data"
    }
   ],
   "source": [
    "query_embeds = []\n",
    "\n",
    "for query in tqdm(query_data['query']):\n",
    "    query_embeds.append(\n",
    "        module.signatures['question_encoder'](input=tf.constant([query]))['outputs'][0]\n",
    "    )\n",
    "query_embeds_npy = np.vstack([embed.numpy() for embed in query_embeds])\n",
    "np.save('data/query_embeds_not_corrected.npy', query_embeds_npy)"
   ]
  },
  {
   "cell_type": "code",
   "execution_count": null,
   "metadata": {},
   "outputs": [],
   "source": []
  }
 ],
 "metadata": {
  "kernelspec": {
   "display_name": "Python 3",
   "language": "python",
   "name": "python3"
  },
  "language_info": {
   "codemirror_mode": {
    "name": "ipython",
    "version": 3
   },
   "file_extension": ".py",
   "mimetype": "text/x-python",
   "name": "python",
   "nbconvert_exporter": "python",
   "pygments_lexer": "ipython3",
   "version": "3.8.5"
  }
 },
 "nbformat": 4,
 "nbformat_minor": 4
}
