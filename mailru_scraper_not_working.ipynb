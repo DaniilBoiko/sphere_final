{
 "cells": [
  {
   "cell_type": "code",
   "execution_count": 20,
   "metadata": {},
   "outputs": [],
   "source": [
    "import pickle as pkl\n",
    "\n",
    "from tqdm.notebook import tqdm"
   ]
  },
  {
   "cell_type": "code",
   "execution_count": 21,
   "metadata": {},
   "outputs": [],
   "source": [
    "with open('data/queries.corrected.pkl', 'rb') as f:\n",
    "    queries = pkl.load(f)"
   ]
  },
  {
   "cell_type": "code",
   "execution_count": 22,
   "metadata": {},
   "outputs": [],
   "source": [
    "queries = queries['query'].to_list()"
   ]
  },
  {
   "cell_type": "code",
   "execution_count": 23,
   "metadata": {},
   "outputs": [],
   "source": [
    "import bs4\n",
    "import requests\n",
    "from bs4 import BeautifulSoup"
   ]
  },
  {
   "cell_type": "code",
   "execution_count": 34,
   "metadata": {},
   "outputs": [],
   "source": [
    "def scrape(query):\n",
    "    links = []\n",
    "    \n",
    "    headers = {\n",
    "    'User-Agent': 'Mozilla/5.0'\n",
    "    }\n",
    "    \n",
    "    res = requests.get(\"https://go.mail.ru/search?q=\" + query, headers=headers)\n",
    "    \n",
    "    for a in bs4.BeautifulSoup(res.text, \"html.parser\").find_all('a'):\n",
    "        links.append(a['href'])\n",
    "    \n",
    "    print(bs4.BeautifulSoup(res.text, \"html.parser\").text)\n",
    "        \n",
    "    return links"
   ]
  },
  {
   "cell_type": "code",
   "execution_count": 35,
   "metadata": {},
   "outputs": [
    {
     "name": "stdout",
     "output_type": "stream",
     "text": [
      "\n",
      "\n",
      "\n",
      "\n",
      "\n",
      "\n",
      " \n",
      "\n",
      "\n",
      "\n",
      "\n",
      "\n",
      "\n",
      "\n",
      "\n",
      "\n",
      "\n",
      "\n",
      "\n",
      "\n",
      "\n",
      "\n",
      "\n",
      "\t\t\n",
      "\t\t\tпоисковый запрос\n",
      "\t\t\t-\n",
      "\t\t\n",
      "\t\tПоиск Mail.Ru\n",
      "\t\n",
      "\n",
      "\n",
      "\n",
      "\n",
      "\n",
      "\n",
      "\n",
      "\n",
      "\n",
      "\n",
      "\n",
      "\n",
      "\n",
      "\n",
      "\n",
      "\n",
      "\n",
      "\n",
      "\n",
      "\n",
      "\n",
      "\n",
      "\n",
      "\n",
      "\n",
      "\n",
      "\n",
      "\n",
      "\n",
      "\n",
      "\n",
      "\n",
      "\n",
      "\n",
      "\n",
      "\n",
      "\n",
      "\n",
      "\n",
      "Mail.ruПочтаМой МирОдноклассникиВКонтактеИгрыЗнакомстваНовостиПоискОблакоComboВсе проектыВсе проектывыходРегистрацияВход\n",
      "\n",
      "\n",
      "\n",
      "\n",
      "\n",
      "\n",
      "\n",
      "\n",
      "\n",
      "\n",
      "\n",
      "\n",
      "\n",
      "\n",
      "\n",
      "\n",
      "\n",
      "\n",
      "\n",
      "\n",
      "\n",
      "\n",
      "\n",
      "\n"
     ]
    },
    {
     "data": {
      "text/plain": [
       "['https://r.mail.ru/n201590436?sz=9&rnd=196962313',\n",
       " 'https://r.mail.ru/n215025102?sz=9&rnd=196962313',\n",
       " 'https://r.mail.ru/n317070355?sz=9&rnd=196962313',\n",
       " 'https://r.mail.ru/n339042559?sz=9&rnd=196962313',\n",
       " 'https://r.mail.ru/n338358813?sz=9&rnd=196962313',\n",
       " 'https://r.mail.ru/n215025103?sz=9&rnd=196962313',\n",
       " 'https://r.mail.ru/n317070357?sz=9&rnd=196962313',\n",
       " 'https://r.mail.ru/n211660444?sz=9&rnd=196962313',\n",
       " 'https://r.mail.ru/n317070358?sz=9&rnd=196962313',\n",
       " 'https://r.mail.ru/n339450704?sz=9&rnd=196962313',\n",
       " 'https://r.mail.ru/n339042560?sz=9&rnd=196962313',\n",
       " 'https://r.mail.ru/n201590438?sz=9&rnd=196962313',\n",
       " '#',\n",
       " 'https://r.mail.ru/cls1074201/auth.mail.ru/cgi-bin/logout?next=1&lang=ru_RU&Page=https%3A%2F%2Fgo.mail.ru%2Fsearch%3Fq%3D%25D0%25BF%25D0%25BE%25D0%25B8%25D1%2581%25D0%25BA%25D0%25BE%25D0%25B2%25D1%258B%25D0%25B9%2520%25D0%25B7%25D0%25B0%25D0%25BF%25D1%2580%25D0%25BE%25D1%2581',\n",
       " 'https://r.mail.ru/cls534553/r.mail.ru/clb1126011/e.mail.ru/signup?from=navi&lang=ru_RU&rnd=196962313',\n",
       " 'https://r.mail.ru/cls951827/e.mail.ru/login?lang=ru_RU&Page=https%3A%2F%2Fgo.mail.ru%2Fsearch%3Fq%3D%25D0%25BF%25D0%25BE%25D0%25B8%25D1%2581%25D0%25BA%25D0%25BE%25D0%25B2%25D1%258B%25D0%25B9%2520%25D0%25B7%25D0%25B0%25D0%25BF%25D1%2580%25D0%25BE%25D1%2581']"
      ]
     },
     "execution_count": 35,
     "metadata": {},
     "output_type": "execute_result"
    }
   ],
   "source": [
    "scrape('поисковый запрос')"
   ]
  },
  {
   "cell_type": "code",
   "execution_count": 52,
   "metadata": {},
   "outputs": [],
   "source": [
    "import random\n",
    "import time\n",
    "from tqdm.notebook import tqdm"
   ]
  },
  {
   "cell_type": "code",
   "execution_count": null,
   "metadata": {},
   "outputs": [],
   "source": [
    "results = []"
   ]
  },
  {
   "cell_type": "code",
   "execution_count": 55,
   "metadata": {},
   "outputs": [],
   "source": [
    "with open('data/google_scraping.pkl', 'wb') as f:\n",
    "    pkl.dump(results, f)"
   ]
  },
  {
   "cell_type": "code",
   "execution_count": null,
   "metadata": {},
   "outputs": [
    {
     "data": {
      "application/vnd.jupyter.widget-view+json": {
       "model_id": "b999eeec8d98413e89019ce1feb81b12",
       "version_major": 2,
       "version_minor": 0
      },
      "text/plain": [
       "HBox(children=(HTML(value=''), FloatProgress(value=0.0, max=6311.0), HTML(value='')))"
      ]
     },
     "metadata": {},
     "output_type": "display_data"
    },
    {
     "name": "stdout",
     "output_type": "stream",
     "text": [
      "['https://www.ozon.ru/context/detail/id/4638027/', 'https://www.ozon.ru/context/detail/id/4561626/', 'https://www.livelib.ru/book/1001369902-izumrudnyj-dozhd-sbornik-yurij-kuznetsov', 'https://www.bookselect.ru/product/37718', 'https://www.litmir.me/bd/%3Fb%3D250229', 'https://fantlab.ru/work137599', 'https://libking.ru/books/child-/child-sf/165331-yuriy-kuznetsov-izumrudnyy-dozhd.html', 'https://royallib.com/book/kuznetsov_yuriy/izumrudniy_dogd.html', 'https://booksonline.com.ua/view.php%3Fbook%3D58091', 'https://izumgorod.fandom.com/ru/wiki/%25D0%2598%25D0%25B7%25D1%2583%25D0%25BC%25D1%2580%25D1%2583%25D0%25B4%25D0%25BD%25D1%258B%25D0%25B9_%25D0%25B4%25D0%25BE%25D0%25B6%25D0%25B4%25D1%258C']\n",
      "['https://i-teka.kz/nur-sultan/medicaments/mifepriston-tabletki-200-mg-1', 'https://www.103.kz/list/ginekologiya-medikamentoznoje-preryvanije-beremennosti/astana/', 'https://pharmprice.kz/annotations/mifepriston/', 'https://astana.onclinic.kz/ginekologiya/medikamentoznyj-abort/', 'https://dodoc.kz/clinicks/medikamentoznoe-preryvanie-beremennosti', 'https://q.bing.org.kz/search/%25D0%25BA%25D1%2583%25D0%25BF%25D0%25B8%25D1%2582%25D1%258C%2B%25D1%2582%25D0%25B0%25D0%25B1%25D0%25BB%25D0%25B5%25D1%2582%25D0%25BA%25D0%25B8%2B%25D0%25B1%25D0%25B5%25D0%25B7%2B%25D1%2580%25D0%25B5%25D1%2586%25D0%25B5%25D0%25BF%25D1%2582%25D0%25B0%2B%25D0%25B2%2B%25D0%25B0%25D1%2581%25D1%2582%25D0%25B0%25D0%25BD%25D0%25B5%2B%25D0%25B4%25D0%25BB%25D1%258F%2B%25D0%25BF%25D1%2580%25D0%25B5%25D1%2580%25D1%258B%25D0%25B2%25D0%25B0%25D0%25BD%25D0%25B8%25D1%258F%2B%25D0%25B1%25D0%25B5%25D1%2580%25D0%25B5%25D0%25BC%25D0%25B5%25D0%25BD%25D0%25BD%25D0%25BE%25D1%2581%25D1%2582%25D0%25B8', 'https://q.bing.org.kz/search/%25D0%25B3%25D0%25B4%25D0%25B5%2520%25D0%25BA%25D1%2583%25D0%25BF%25D0%25B8%25D1%2582%25D1%258C%2520%25D1%2582%25D0%25B0%25D0%25B1%25D0%25BB%25D0%25B5%25D1%2582%25D0%25BA%25D0%25B8%2520%25D0%25B4%25D0%25BB%25D1%258F%2520%25D0%25B0%25D0%25B1%25D0%25BE%25D1%2580%25D1%2582%25D0%25B0%2520%25D0%25B2%2520%25D0%25B0%25D1%2581%25D1%2582%25D0%25B0%25D0%25BD%25D0%25B5', 'https://biosfera.kz/product/product%3Fproduct_id%3D16893', 'http://afn.kz/search/%25D0%25B3%25D0%25B4%25D0%25B5%2B%25D0%25BA%25D1%2583%25D0%25BF%25D0%25B8%25D1%2582%25D1%258C%2B%25D1%2582%25D0%25B0%25D0%25B1%25D0%25BB%25D0%25B5%25D1%2582%25D0%25BA%25D0%25B8%2B%25D0%25B4%25D0%25BB%25D1%258F%2B%25D0%25B0%25D0%25B1%25D0%25BE%25D1%2580%25D1%2582%25D0%25B0%2B%25D0%25B2%2B%25D0%25B0%25D1%2581%25D1%2582%25D0%25B0%25D0%25BD%25D0%25B5']\n",
      "['https://russkiiyazyk.ru/kultura-rechi/tefteli-udarenie.html', 'https://obrazovaka.ru/udarenie/v-slove-tefteli', 'https://xn----8sbhebeda0a3c5a7a.xn--p1ai/%25D0%25B2-%25D1%2581%25D0%25BB%25D0%25BE%25D0%25B2%25D0%25B5-%25D1%2582%25D0%25B5%25D1%2584%25D1%2582%25D0%25B5%25D0%25BB%25D0%25B8/', 'https://www.ekburg.ru/news/2/51543-kak-pravilno-tefteli-ili-tefteli/', 'http://mnogoznay.ru/russkiy-yazyk/udarenie-v-slovah-kak-pravilno/udarenie-v-slove-tefteli.html', 'http://testru.info/%3Fp%3D468', 'https://ru.wiktionary.org/wiki/%25D1%2582%25D0%25B5%25D1%2584%25D1%2582%25D0%25B5%25D0%25BB%25D0%25B8', 'https://otvet.mail.ru/question/28985332', 'https://multiurok.ru/blog/kak-pravil-no-stavit-udarieniie-v-slovie-tieftieli.html', 'https://accentonline.ru/%25D0%25A2/%25D1%2582%25D0%25B5%25D1%2584%25D1%2582%25D0%25B5%25D0%25BB%25D0%25B8']\n",
      "['https://kontur.ru/qa/9474', 'http://compcentr.ru/library/Bookkeeper/Lektsia_7.pdf', 'https://e-kontur.ru/enquiry/17', 'http://audit-by.narod.ru/aduc/buhgalter/densredstva.htm', 'https://nalog-nalog.ru/forum/onlajn-kassy/vozvrat-po-onlajn-kasse/', 'https://class365.ru/rukovodstvo-polzovatelya/04-ostatki-dengi/', 'https://www.buhscheta.ru/scheta.php%3Fchet_n%3D51%26name%3DRaschetnye-scheta%26i%3D57', 'https://scloud.ru/ask_question/bank-i-kassa/bankovskie-vypiski-v-1s-8-3-bukhgalteriya-3-0/', 'https://wiseadvice-it.ru/o-kompanii/blog/articles/kassa-v-1s-buhgalteriya-8-3-rashodnye-i-prihodnye-ordera-ili-kak-vesti-kassu-v-1s-buhgalteriya-8/']\n",
      "['https://e-kassa.com/maps/centralnyi-zd-vokzal.html', 'https://grandtrain.ru/information/', 'https://ftour.otzyv.ru/searchw.php%3Fs%3D%25C7%25E0%2B%25F1%25EA%25EE%25EB%25FC%25EA%25EE%2B%25E2%25F0%25E5%25EC%25E5%25ED%25E8%2B%25E4%25EE%2B%25EE%25F2%25EF%25F0%25E0%25E2%25EB%25E5%25ED%25E8%25FF%2B%25EF%25EE%25E5%25E7%25E4%25E0%2B%25ED%25E0%25E4%25EE%2B%25EF%25F0%25E8%25E5%25F5%25E0%25F2%25FC%2B%25ED%25E0%2B%25E2%25EE%25EA%25E7%25E0%25EB%253F', 'https://www.rzd.ru/ru/page/40045%3Fstatus_code%3D404%26rid%3D100fa157cbd608f206889f4b820ba309', 'https://rg.ru/2018/01/24/bilety-mozhno-budet-kupit-za-dve-minuty-do-otpravleniia-poezda.html', 'https://crimeafilm.ru/poezda-dalnego-sledovaniya-kupit-bilety-na-poezd-mozhno.html', 'https://crimeafilm.ru/poezda-dalnego-sledovaniya-poezda-dalnego-sledovaniya-skolko-minut-stoit.html', 'https://www.tutu.ru/news.php', 'https://zurichguide.ru/transport/transport-po-shvejtsarii', 'https://life-trip.ru/kak-kupit-bilet-na-poezd-rzhd-cherez-internet/']\n",
      "['http://www.consultant.ru/document/cons_doc_LAW_10699/33ed8a9caec9cd5b4c329b9a17409a19c583d4d4/', 'https://pravoprim.spbu.ru/yurisprudentsiya/zawita-chesti-dostoinstva-i-delovoj-reputacii/item/51-problemy-privlecheniya-k-ugolovnoj-otvetstvennosti-za-halatnost-po-st-293-ugolovnogo-kodeksa-rf.html', 'https://legalacts.ru/kodeks/UK-RF/osobennaja-chast/razdel-x/glava-30/statja-293/', 'https://www.interfax.ru/russia/653037', 'https://zonaprava.com/info/instructions/4347/', 'https://ru.wikipedia.org/wiki/%25D0%25A5%25D0%25B0%25D0%25BB%25D0%25B0%25D1%2582%25D0%25BD%25D0%25BE%25D1%2581%25D1%2582%25D1%258C', 'https://proffadvokat.ru/https-proffadvokat-ru-practice-areas/official-crimes/advokat-po-khalatnosti/', 'https://sudact.ru/practice/halatnost/', '/search%3Fq%3D%25D0%25BAjve%2Bgjlfdfnm%2Bpfzdktybt%2B%25D0%25BF%25D0%25BE%2B%25D1%2581%25D1%2582%25D0%25B0%25D1%2582%25D1%258C%25D0%25B5%2B%25D1%2585%25D0%25B0%25D0%25BB%25D0%25B0%25D1%2582%25D0%25BD%25D0%25BE%25D1%2581%25D1%2582%25D1%258C%26ie%3DUTF-8%26filter%3D0']\n",
      "['https://www.glavbukh.ru/hl/299408-inventarnyy-nomer-pri-uchete-malotsennogo-inventarya', 'https://i.factor.ua/journals/nibu/2018/july/issue-61/article-38240.html', 'https://docplayer.ru/30412839-Uchet-malocennogo-inventarya-v-ekspluatacii.html', 'https://moluch.ru/archive/300/67906/', 'https://online-buhuchet.ru/uchet-malocenki-mbp/', 'https://glavkniga.ru/situations/86120', 'https://usnka.by/poleznye-materialy/kniga-ucheta-pri-usn-kak-spisat-malocenku.html', 'https://online.zakon.kz/Document/%3Fdoc_id%3D30993113', 'https://stimul.kiev.ua/materialy.htm%3Fa%3Dmetodika-ucheta-malotsennykh-aktivov']\n",
      "['https://www.21vek.by/info/howto/1803.html', 'https://www.21vek.by/info/howto/1803.html', 'https://market.yandex.ru/journal/knowledge/kak-vibrat-utjug', 'https://market.yandex.ru/journal/knowledge/kak-vibrat-utjug%23Kakie-bivajut-utjugi', 'https://market.yandex.ru/journal/knowledge/kak-vibrat-utjug%23V-chem-osobennost-besprovodnih-utjugov', 'https://market.yandex.ru/journal/knowledge/kak-vibrat-utjug%23Kakuju-vibrat-podoshvu-utjuga', 'https://ichip.ru/podborki/tekhnika-dom/kak-vybrat-utyug-dlya-doma-na-chto-nuzhno-obrashhat-vnimanie-chtoby-ne-szhech-kvartiru-462342', 'https://f.ua/articles/kak-vybrat-utyug.html', 'http://e96.ru/articles/utyugi/kak-vibrat-utyug', 'https://www.youtube.com/watch%3Fv%3DDZ8pVe4deWw', 'https://www.youtube.com/watch%3Fv%3DDZ8pVe4deWw', 'https://www.youtube.com/watch%3Fv%3DACa3eKS8_fI', 'https://www.youtube.com/watch%3Fv%3DACa3eKS8_fI', 'https://lifehacker.ru/kak-vybrat-utyug/', 'https://www.expertcen.ru/article/ratings/luchshie-utyugi.html', 'https://www.rdveikals.lv/site/content/ru/645/%25D0%259A%25D0%25B0%25D0%25BA-%25D0%25B2%25D1%258B%25D0%25B1%25D1%2580%25D0%25B0%25D1%2582%25D1%258C-%25D1%2583%25D1%2582%25D1%258E%25D0%25B3-.html']\n",
      "['https://www.malahov.ru/', 'https://wssd.instructure.com/eportfolios/631', 'https://pryamoj-efir.ru/kontakty/', 'https://www.1tv.ru/shows/pust-govoryat/uchastvuyte-v-proekte', 'https://kino.mail.ru/person/501221_andrej_malahov/', 'https://vk.com/priamoiefir', 'https://www.youtube.com/watch%3Fv%3D9Och5lHXRNE', 'https://www.youtube.com/watch%3Fv%3D9Och5lHXRNE', 'https://ru.wikipedia.org/wiki/%25D0%259C%25D0%25B0%25D0%25BB%25D0%25B0%25D1%2585%25D0%25BE%25D0%25B2,_%25D0%2590%25D0%25BD%25D0%25B4%25D1%2580%25D0%25B5%25D0%25B9_%25D0%259D%25D0%25B8%25D0%25BA%25D0%25BE%25D0%25BB%25D0%25B0%25D0%25B5%25D0%25B2%25D0%25B8%25D1%2587', 'https://tjournal.ru/stories/178024-vlad-bahov-drugoy-efir', 'https://www.hse.ru/data/2013/05/29/1284771830/%25D0%2592%25D0%259A%25D0%25A0%2520%25D0%2596%25D1%2583%25D0%25BB%25D1%258F%25D0%25B1%25D0%25B8%25D0%25BD%25D0%25BE%25D0%25B9%2520%25D0%259D.%25D0%259C.%2520446%25D0%25B6.docx']\n"
     ]
    },
    {
     "name": "stdout",
     "output_type": "stream",
     "text": [
      "['https://rt.pornhub.com/video/search%3Fsearch%3D%25D0%25B4%25D0%25B5%25D0%25B2%25D1%2583%25D1%2588%25D0%25BA%25D0%25B8%2B%25D0%25BA%25D0%25BE%25D0%25BD%25D1%2587%25D0%25B0%25D1%258E%25D1%2582', 'https://sexmo.org/news/read.php%3Fid%3D84', 'https://www.rushdporno.net/seks/164399/porno-kak-zhenshiny-konchayut/', 'http://pornosexpornuha.com/konchajut-devushki/', 'http://pornobanan.net/cat/orgasm/', 'https://xn----ztbcbceder.tv/ghenschiny-konchayut', 'https://sex.missfit.ru/hollander/orgazm/', 'https://vozbujdenie.com/chto-proisxodit-vo-vremya-orgazma-u-zhenshhin-i-kakovy-oshhushheniya.html', 'http://www.grebenka.com/publ/on_i_ona/intim/kak_konchajut_zhenshhiny_sekrety_zhenskogo_orgazma/21-1-0-1929', 'http://sexpornoseks.org/konchayuschie/']\n",
      "['https://halyk.onlinebank.kz/install/instructions/halykOnlineInstruction_ru.pdf', 'https://www.youtube.com/watch%3Fv%3DAiwnAQZ-nMc', 'https://www.youtube.com/watch%3Fv%3DAiwnAQZ-nMc', 'http://ranking.kz/ru/a/infopovody/obmenniki-uhodyat-v-proshloe-vzyat-kurs-na-onlajn-konvertaciyu-valyuty-cherez-banki', 'https://www.bcc.kz/product/online-conversion/', 'https://www.pscb.ru/corp/services/beznalichnaya-konvertatsiya-corp/', 'https://kaspi.kz/business/faq/currency/conversion/', 'https://kzibank.kz/ru/frequently-asked-questionsr', 'https://www.sberbank.kz/ru/individuals/transfers/beznalichnye-perevody-mir/transfer/perevod-s-karty-na-karty-drugih-bankov-mira', 'https://www.sberbank.kz/ru/individuals/cards/debetovye-karty', 'https://mybuh.kz/raschetnyj-schet/']\n",
      "['https://www.ivd.ru/stroitelstvo-i-remont/dacnyj-ucastok/kak-izbavitsya-ot-muravev-na-dache-pokupnymi-i-narodnymi-sredstvami-45891', 'https://www.kp.ru/putevoditel/sovety-sadovodam-ogorodnikam/muravi-v-ogorode/', 'https://www.kp.ru/putevoditel/sovety-sadovodam-ogorodnikam/muravi-v-ogorode/%23vidy-muravev', 'https://www.kp.ru/putevoditel/sovety-sadovodam-ogorodnikam/muravi-v-ogorode/%23kak-ubrat-muravejnik', 'https://www.kp.ru/putevoditel/sovety-sadovodam-ogorodnikam/muravi-v-ogorode/%23narodnye-sredstva', 'https://rus.delfi.lv/domsad/sad-ogorod/kak-izbavitsya-ot-muravev-v-ogorode-navsegda.d%3Fid%3D48866649%26all%3Dtrue', 'https://www.youtube.com/watch%3Fv%3DE5lKG2rkXME', 'https://www.youtube.com/watch%3Fv%3DE5lKG2rkXME', 'https://www.youtube.com/watch%3Fv%3Df00Ka39RcCU', 'https://www.youtube.com/watch%3Fv%3Df00Ka39RcCU', 'https://www.youtube.com/watch%3Fv%3DtYzv3zy9QsM', 'https://www.youtube.com/watch%3Fv%3DtYzv3zy9QsM', 'https://yandex.ru/q/question/garden/kak_izbavitsia_ot_muravev_na_ogorode_ea44d568/', 'https://yandex.ru/q/question/garden/kak_unichtozhit_muravev_v_ogorode_13c8c5e9/', 'https://plodorodie.ru/borba-s-muravyami-narodnymi-sredstvami/', 'https://antonovsad.ru/kak-izbavitsya-ot-muravev-na-dache-obzor-effektivnyh-sredstv-borby-3320/']\n",
      "['https://www.youtube.com/watch%3Fv%3DqFtHztKBsPA', 'https://www.youtube.com/watch%3Fv%3DqFtHztKBsPA', 'https://www.youtube.com/watch%3Fv%3DMe6zz9kD7Io', 'https://www.youtube.com/watch%3Fv%3DMe6zz9kD7Io', 'https://dom-ribolova.ru/mesta/lovlya-ryby-na-enisee-mesta-i-osobennosti', 'https://www.ohotniki.ru/fishing/places/article/2014/08/22/642136-ryibalka-vsvetlyih-vodah-eniseya.html', 'http://installsoft.ru/viewtopic.php%3Ff%3D328%26t%3D2898%26start%3D126', 'http://installsoft.ru/viewtopic.php%3Ff%3D365%26t%3D4138%26start%3D36', 'http://installsoft.ru/viewtopic.php%3Ff%3D401%26t%3D2308%26start%3D360', 'http://installsoft.ru/viewtopic.php%3Ff%3D351%26t%3D3271%26start%3D54', 'http://installsoft.ru/viewtopic.php%3Ff%3D351%26t%3D3306%26start%3D180', 'https://eklev.ru/ryby/presnovodnye/pelyad.html', 'http://prikormka-dlya-leshcha.logdown.com/posts/1560426-kak-lovit-peliad-na-enisee', 'http://reki-ozera.ru/riba/108916-pelyad.html', 'http://selo-life.ru/10508/%25D0%25B1%25D1%258B%25D0%25BB%25D1%258C-%25D0%25B8-%25D0%25B1%25D0%25B0%25D0%25B9%25D0%25BA%25D0%25B8-%25D0%25BE-%25D1%2580%25D1%258B%25D0%25B1%25D0%25B5-%25D0%25B8-%25D1%2580%25D1%258B%25D0%25B1%25D0%25B0%25D0%25BB%25D0%25BA%25D0%25B5/', 'https://gornovosti.ru/5560/']\n",
      "['https://context.reverso.net/translation/russian-english/%25D1%2583%25D1%2581%25D0%25BB%25D0%25BE%25D0%25B2%25D0%25BD%25D1%258B%25D0%25B5%2B%25D0%25B7%25D0%25B0%25D1%2582%25D1%2580%25D0%25B0%25D1%2582%25D1%258B', 'https://www.audit-it.ru/terms/accounting/postoyannye_zatraty.html', 'https://www.audit-it.ru/terms/accounting/peremennye_zatraty.html', 'https://spravochnick.ru/ekonomicheskaya_teoriya/izderzhki_proizvodstva/uslovnye_izderzhki/', 'http://www.elitarium.ru/kalkuljacija-sebestoimosti-produkcija-zatraty-proizvodstvo-upravlencheskij-uchet/', 'http://www.elitarium.ru/zatraty-rashody-izderzhki-proizvodstvo-aktivy-organizacija-klassifikacija/', 'http://www.consultant.ru/document/cons_doc_LAW_98812/8ce3f8c932e81dfb6cf62656070de11437071f9c/', 'http://www.consultant.ru/document/cons_doc_LAW_98145/df924f672710b04a82565b27847b828bbcc7650f/', 'https://www.klerk.ru/buh/articles/445688/']\n",
      "['https://classes.ru/all-kazakh/dictionary-russian-kazakh-term-23194.htm', 'https://www.kazdic.ru/%25D0%25BF%25D0%25B5%25D1%2580%25D0%25B5%25D0%25B2%25D0%25BE%25D0%25B4/%25D1%2580%25D1%2583%25D1%2581%25D1%2581%25D0%25BA%25D0%25B8%25D0%25B9-%25D0%25BA%25D0%25B0%25D0%25B7%25D0%25B0%25D1%2585%25D1%2581%25D0%25BA%25D0%25B8%25D0%25B9/%25D0%25BE%25D0%25B4%25D0%25B5%25D0%25B2%25D0%25B0%25D1%2582%25D1%258C%25D1%2581%25D1%258F', 'https://znanija.com/task/22871223', 'https://znanija.com/task/3825061', 'https://ru.wikipedia.org/wiki/%25D0%259A%25D0%25B0%25D0%25B7%25D0%25B0%25D1%2585%25D1%2581%25D0%25BA%25D0%25B0%25D1%258F_%25D0%25BD%25D0%25B0%25D1%2586%25D0%25B8%25D0%25BE%25D0%25BD%25D0%25B0%25D0%25BB%25D1%258C%25D0%25BD%25D0%25B0%25D1%258F_%25D0%25BE%25D0%25B4%25D0%25B5%25D0%25B6%25D0%25B4%25D0%25B0', 'https://www.contdict.ru/%25D0%25BF%25D0%25B5%25D1%2580%25D0%25B5%25D0%25B2%25D0%25BE%25D0%25B4/%25D1%2580%25D1%2583%25D1%2581%25D1%2581%25D0%25BA%25D0%25B8%25D0%25B9-%25D0%25BA%25D0%25B0%25D0%25B7%25D0%25B0%25D1%2585%25D1%2581%25D0%25BA%25D0%25B8%25D0%25B9/%25D0%25BE%25D0%25B4%25D0%25B5%25D1%2582%25D1%258C', 'https://translate.academic.ru/%25D0%25BE%25D0%25B4%25D0%25B5%25D1%2582%25D1%258C/ru/kk/', 'https://online.zakon.kz/Document/%3Fdoc_id%3D30583574', 'https://da-dk.facebook.com/soyle.kz/posts/1463066567196064/']\n",
      "['https://www.youtube.com/watch%3Fv%3DGwR2Ru_UfW8', 'https://www.youtube.com/watch%3Fv%3DGwR2Ru_UfW8', 'https://qbwtim743423143.hatenablog.com/entry/2018/12/30/173534', 'https://soft.mydiv.net/win/qans.t99243.kak-udalit-reklamu-v-brauzere-amigo-.0-Browser-Amigo.html', 'https://otvet.mail.ru/question/168697843', 'https://otvet.mail.ru/question/199445689', 'https://otvet.mail.ru/question/168052047', 'https://otvet.mail.ru/question/167565984', 'https://otvet.mail.ru/question/171145223', 'http://deandre18y50.wikidot.com/blog:1', 'https://guygalgano11.hatenadiary.com/entry/2019/01/15/072534', 'https://latanyacoughlin.hatenadiary.com/entry/2019/01/14/070124', 'https://verfilmeshd.gratis/hd-%25D0%25BA%25D0%25B0%25D0%25BA-%25D0%25B2-%25D0%25B1%25D1%2580%25D0%25B0%25D1%2583%25D0%25B7%25D0%25B5%25D1%2580%25D0%25B5-%25D0%25B0%25D0%25BC%25D0%25B8%25D0%25B3%25D0%25BE-%2528amigo%2529-%25D0%25B1%25D0%25BB%25D0%25BE%25D0%25BA%25D0%25B8%25D1%2580%25D0%25BE%25D0%25B2%25D0%25B0%25D1%2582%25D1%258C-%25D0%25B2%25D1%2581%25D0%25BF%25D0%25BB%25D1%258B%25D0%25B2%25D0%25B0%25D1%258E%25D1%2589%25D0%25B8%25D0%25B5-%25D0%25BE%25D0%25BA%25D0%25BD%25D0%25B0-%25D0%25B8-%25D1%2580%25D0%25B5%25D0%25BA%25D0%25BB%25D0%25B0%25D0%25BC%25D1%2583/h%25C3%25A1-3-anos/Info-Faq/KkGwR2Ru_UfW8', 'https://byr1.ru/publ/bezopastnost/bezopasnost_kompjutera/reklama_v_brauzere_virus_udalenie/55-1-0-139', 'https://byr1.ru/publ/bezopastnost/bezopasnost_kompjutera/reklama_v_brauzere_virus_udalenie/55-1-0-139', 'https://10kilogramm.ru/kak-ubrat-reklamu-v-brauzere.php', 'https://10kilogramm.ru/kak-ubrat-reklamu-v-brauzere.php']\n",
      "['https://context.reverso.net/%25D0%25BF%25D0%25B5%25D1%2580%25D0%25B5%25D0%25B2%25D0%25BE%25D0%25B4/%25D0%25B0%25D0%25BD%25D0%25B3%25D0%25BB%25D0%25B8%25D0%25B9%25D1%2581%25D0%25BA%25D0%25B8%25D0%25B9-%25D1%2580%25D1%2583%25D1%2581%25D1%2581%25D0%25BA%25D0%25B8%25D0%25B9/cashback', 'https://www.vtb.ru/personal/karty/informacija-dlja-derzhatelej-kart/bonusnye-opcii-new/cashback/', 'https://www.raiffeisen.ru/retail/cards/debit/cashback-card/', 'https://media.mts.ru/technologies/175920/', 'https://www.banki.ru/products/debitcards/card/6930/overview/', 'https://alfabank.ru/everyday/debit-cards/cash-back-card/', 'https://www.rosbank.ru/karty-s-cashback/', 'https://www.rsb.ru/cards/rscashback/', 'https://www.prostobank.ua/plastikovye_karty/stati/vozvrat_chasti_potrachennyh_sredstv_na_kartu_chto_predlagayut_banki_po_usluge_cash_back', 'https://www.mtsbank.ru/chastnim-licam/karti/debet-card-cashback/']\n"
     ]
    },
    {
     "name": "stdout",
     "output_type": "stream",
     "text": [
      "['https://www.mos.ru/otvet-stroitelstvo/kak-podklyuchitsya-k-inzhenernym-setyam/', 'https://imgur.com/gallery/Q4oXq', 'https://mosreg.ru/sobytiya/novosti/news-submoscow/kak-podat-zayavku-na-tehprisoedinenie-k-elektrosetyam-v-podmoskove', 'https://rossetimr.ru/press/company_news/item24713.php', 'https://utp.rossetimr.ru/', 'https://mosenergocity.ru/tehnologicheskoe-prisoedinenie-cherez-moesk/', 'http://www.consultelectro.ru/activity/besplatnaya-podacha-zayavki-na-tekhnologicheskoe-prisoedinenie-k-ehlektricheskim-setyam-pao-moesk', 'http://mnogodetstvo.ru/o-nas/zemlya-dlya-mnogodetnyix-semej/iniciativnaya-gruppa-2/zayavka-na-elektroenergiyu/instrukciya', 'https://megavolt.ru/uslugi/elektrosnabzhenie/tekhnologicheskoe-prisoedinenie-k-elektricheskim-setyam-moesk']\n",
      "['https://www.youtube.com/watch%3Fv%3DzqGZkZ_D_BQ', 'https://www.youtube.com/watch%3Fv%3DzqGZkZ_D_BQ', 'https://www.youtube.com/watch%3Fv%3Df3wnRQpt110', 'https://www.youtube.com/watch%3Fv%3Df3wnRQpt110', 'https://yandex.ru/znatoki/question/computers/kak_zarabotat_400_rublei_za_chas_i_na_6ae067de/', 'https://yandex.ru/q/question/work/kak_zarabotat_dengi_na_kivi_koshelek_dc9630dc/', 'https://play.google.com/store/apps/details%3Fid%3Dplatnie.oprosi.online.dengi%26hl%3Dru%26gl%3DUS', 'https://qiwi.com/payment/form/241665', 'https://webtrafff.ru/top-30-sajtov-dlya-zarabotka-qiwi-deneg.html', 'https://whiteprofit.ru/zarabotok-v-internete/kak-zarabotat-na-qiwi-koshelke-bez-vlozhenij.htm', 'https://askusers.ru/assessor.php', 'https://www.sravni.ru/enciklopediya/info/zarabotok-na-kivi/']\n",
      "['https://znanija.com/task/23154568', 'https://obrazovaka.ru/fizika/zavisimost-sily-toka-ot-napryazheniya-grafik.html', 'https://5terka.com/node/14812', 'http://colledg70.ru/p/sh/document/razr_fiz_cons_zavis.pdf', 'https://askentire.net/q/kak-postroit-grafik-zavisimosti-napryazheniya-ot-toka-na-proteus-software-61759019556', 'https://www.youtube.com/watch%3Fv%3DgM1TU6CuwzU', 'https://www.youtube.com/watch%3Fv%3DgM1TU6CuwzU', 'https://www.yaklass.by/p/fizika/8-klass/elektromagnitnye-iavleniia-2454/elektricheskoe-soprotivlenie-zakon-oma-dlia-uchastka-elektricheskoi-tcepi-6763/re-c174c91f-169a-43e7-afe5-1a19f15a9063', 'https://www.cyberforum.ru/ms-excel/thread1278024.html', 'https://www.cyberforum.ru/physics/thread1018692.html', 'https://www.cyberforum.ru/mathcad/thread2240156.html', 'https://www.cyberforum.ru/electrodynamics/thread2440125.html', 'https://www.cyberforum.ru/electrodynamics/thread291669.html', 'https://www.ngpedia.ru/id648895p1.html']\n"
     ]
    }
   ],
   "source": [
    "for i, query in enumerate(tqdm(queries)):\n",
    "    if i < len(results):\n",
    "        continue\n",
    "        \n",
    "    results.append(scrape(query))\n",
    "    time.sleep(random.random()*5)\n",
    "    \n",
    "    if i % 100 == 0:\n",
    "        print(results[-1])"
   ]
  },
  {
   "cell_type": "code",
   "execution_count": 54,
   "metadata": {},
   "outputs": [
    {
     "data": {
      "text/plain": [
       "['https://baza.drom.ru/surgut/sell_spare_parts/%2B/%25FD%25EB%25E5%25EA%25F2%25F0%25EE%25EF%25F0%25EE%25E2%25EE%25E4%25EA%25E0/model/%25EB%25E0%25E4%25E0/',\n",
       " 'https://www.farpost.ru/surgut/auto/sell_spare_parts/%2B/%25FD%25EB%25E5%25EA%25F2%25F0%25E8%25EA%25E0/model/%25EB%25E0%25E4%25E0%2B%25EA%25E0%25EB%25E8%25ED%25E0/',\n",
       " 'https://www.farpost.ru/surgut/auto/sell_spare_parts/%2B/%25FD%25EB%25E5%25EA%25F2%25F0%25EE%25EF%25F0%25EE%25E2%25EE%25E4%25EA%25E0/model/%25EB%25E0%25E4%25E0/',\n",
       " 'https://surgut.blizko.ru/predl/transport/autoparts/zapchasti_vaz/elektrika_vaz_lada/elektroprovodka_vaz_lada',\n",
       " 'https://www.avito.ru/surgut/zapchasti_i_aksessuary%3Fq%3Dlada',\n",
       " 'https://www.avito.ru/rossiya/zapchasti_i_aksessuary%3Fq%3D%25D0%25BF%25D0%25BE%25D0%25B4%25D0%25BA%25D0%25B0%25D0%25BF%25D0%25BE%25D1%2582%25D0%25BD%25D0%25B0%25D1%258F%2B%25D0%25BF%25D1%2580%25D0%25BE%25D0%25B2%25D0%25BE%25D0%25B4%25D0%25BA%25D0%25B0%2B%25D0%25BD%25D0%25B0%2B%25D0%25B2%25D0%25B0%25D0%25B7',\n",
       " 'https://www.sdvor.com/surgut/category/kabeli-i-provoda-9229/',\n",
       " 'https://www.avtoskazka.com/catalog/vaz/transaction/',\n",
       " 'https://surgut.narule.ru/orgs/zapchast/vaz/%3Fabc%3D1']"
      ]
     },
     "execution_count": 54,
     "metadata": {},
     "output_type": "execute_result"
    }
   ],
   "source": [
    "results[-1]"
   ]
  },
  {
   "cell_type": "code",
   "execution_count": null,
   "metadata": {},
   "outputs": [],
   "source": []
  }
 ],
 "metadata": {
  "kernelspec": {
   "display_name": "Python 3",
   "language": "python",
   "name": "python3"
  },
  "language_info": {
   "codemirror_mode": {
    "name": "ipython",
    "version": 3
   },
   "file_extension": ".py",
   "mimetype": "text/x-python",
   "name": "python",
   "nbconvert_exporter": "python",
   "pygments_lexer": "ipython3",
   "version": "3.8.5"
  }
 },
 "nbformat": 4,
 "nbformat_minor": 4
}
